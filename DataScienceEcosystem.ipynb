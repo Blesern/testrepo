{
 "cells": [
  {
   "cell_type": "markdown",
   "id": "dc97f701-af74-4750-974a-b00be7d79987",
   "metadata": {},
   "source": [
    "# Data Science Tools and Ecosystem"
   ]
  },
  {
   "cell_type": "markdown",
   "id": "c19cf6f4-1d70-4f21-95ee-a441734faf61",
   "metadata": {},
   "source": [
    "In this notebook, data science tools and ecosystems are summarized."
   ]
  },
  {
   "cell_type": "markdown",
   "id": "5288a68b-8f2c-4cbd-8342-ecd8621a7508",
   "metadata": {},
   "source": [
    "Some of the popular languages of data science are:"
   ]
  },
  {
   "cell_type": "markdown",
   "id": "a440e47a-416f-4b54-a049-e8b042d24298",
   "metadata": {},
   "source": [
    "1. Python\n",
    "2. R\n",
    "3. C++\n",
    "4. Java"
   ]
  },
  {
   "cell_type": "markdown",
   "id": "15e6f290-7d12-45a2-85d0-2e6d1868fe93",
   "metadata": {},
   "source": [
    "Some commonly use libraries included:"
   ]
  },
  {
   "cell_type": "markdown",
   "id": "43c6d56d-5fbe-4161-9c4e-064e15457958",
   "metadata": {},
   "source": [
    "1. Jupyter Notebooks\n",
    "2. Rstudio\n",
    "3. Pandas\n",
    "4. Numpy"
   ]
  },
  {
   "cell_type": "markdown",
   "id": "0ab05e07-5e91-4270-8cf0-8ef292be3d5b",
   "metadata": {},
   "source": [
    "| Data Science Tools|\n",
    "|---------|\n",
    "| Rstudio |\n",
    "| Apache Spark|\n",
    "| Apache Hadoop |"
   ]
  },
  {
   "cell_type": "markdown",
   "id": "d20040f2-453e-48ef-a983-fa5098f0ebe1",
   "metadata": {},
   "source": [
    "This simple arithmetic expression to multiply then add integers."
   ]
  },
  {
   "cell_type": "code",
   "execution_count": 3,
   "id": "2b719967-85c2-4084-b6e6-dc7c2815fd3e",
   "metadata": {
    "tags": []
   },
   "outputs": [
    {
     "data": {
      "text/plain": [
       "17"
      ]
     },
     "execution_count": 3,
     "metadata": {},
     "output_type": "execute_result"
    }
   ],
   "source": [
    "(3*4)+5"
   ]
  },
  {
   "cell_type": "markdown",
   "id": "fb3f5b30-b658-4e25-a5d0-951f05a966aa",
   "metadata": {},
   "source": [
    "This will convert 200 minutes into hours by dividing by 60."
   ]
  },
  {
   "cell_type": "code",
   "execution_count": 4,
   "id": "bec63595-ac6d-4cd8-9bff-d235ef6b7a8a",
   "metadata": {
    "tags": []
   },
   "outputs": [
    {
     "data": {
      "text/plain": [
       "3.3333333333333335"
      ]
     },
     "execution_count": 4,
     "metadata": {},
     "output_type": "execute_result"
    }
   ],
   "source": [
    "200/60"
   ]
  },
  {
   "cell_type": "markdown",
   "id": "5a91167a-4bb2-419d-88dd-e8bccc516730",
   "metadata": {},
   "source": [
    "**Objectives:**"
   ]
  },
  {
   "cell_type": "markdown",
   "id": "2d99e270-e75c-4e1e-b1c5-9ee5bfc8bbe4",
   "metadata": {},
   "source": [
    "* List Popular Languages Used In Data Science\n",
    "* List Commonly Used Libraries\n",
    "* Use Simply Arithmetic"
   ]
  },
  {
   "cell_type": "markdown",
   "id": "a6080f14-b4e7-4110-91e1-ab6726aea8ef",
   "metadata": {
    "tags": []
   },
   "source": [
    "Author"
   ]
  },
  {
   "cell_type": "markdown",
   "id": "74738f9f-b459-434b-b121-1e16d5298659",
   "metadata": {},
   "source": [
    "Nicholas Bleser"
   ]
  },
  {
   "cell_type": "code",
   "execution_count": null,
   "id": "6ae0c6c8-2fa0-42a2-a75b-0bb5b74509ea",
   "metadata": {},
   "outputs": [],
   "source": []
  }
 ],
 "metadata": {
  "kernelspec": {
   "display_name": "Python",
   "language": "python",
   "name": "conda-env-python-py"
  },
  "language_info": {
   "codemirror_mode": {
    "name": "ipython",
    "version": 3
   },
   "file_extension": ".py",
   "mimetype": "text/x-python",
   "name": "python",
   "nbconvert_exporter": "python",
   "pygments_lexer": "ipython3",
   "version": "3.7.12"
  }
 },
 "nbformat": 4,
 "nbformat_minor": 5
}
